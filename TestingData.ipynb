{
 "cells": [
  {
   "cell_type": "code",
   "execution_count": 1,
   "id": "878989e2",
   "metadata": {},
   "outputs": [],
   "source": [
    "import os\n",
    "import torch\n",
    "import torchvision\n",
    "import numpy as np\n",
    "#import tarfile\n",
    "import torch.nn as nn\n",
    "import torch.nn.functional as F\n",
    "#from torchvision.datasets.utils import download_url\n",
    "#from torchvision.datasets import CIFAR100\n",
    "from torchvision.datasets import ImageFolder\n",
    "from torchvision.transforms import ToTensor\n",
    "from torchvision.utils import make_grid\n",
    "from torch.utils.data import random_split\n",
    "from torch.utils.data import DataLoader\n",
    "from PIL import Image, ImageEnhance\n",
    "import nibabel as nib\n",
    "import cv2\n",
    "import matplotlib\n",
    "import matplotlib.pyplot as plt\n",
    "from sklearn.preprocessing import normalize\n",
    "%matplotlib inline\n",
    "\n",
    "matplotlib.rcParams['figure.facecolor'] = '#ffffff'"
   ]
  },
  {
   "cell_type": "code",
   "execution_count": 2,
   "id": "6750a83c",
   "metadata": {},
   "outputs": [],
   "source": [
    "file = '.\\ISLES\\TRAINING\\case_1\\SMIR.Brain.XX.O.CT_Tmax.345567\\SMIR.Brain.XX.O.CT_Tmax.345567.nii'\n",
    "mask = './ISLES/TRAINING/case_3/SMIR.Brain.XX.O.OT.345580/SMIR.Brain.XX.O.OT.345580.nii'"
   ]
  },
  {
   "cell_type": "code",
   "execution_count": 3,
   "id": "878a0222",
   "metadata": {},
   "outputs": [],
   "source": [
    "img = nib.load(file)\n",
    "mask = nib.load(mask)"
   ]
  },
  {
   "cell_type": "code",
   "execution_count": 4,
   "id": "44412d55",
   "metadata": {},
   "outputs": [
    {
     "data": {
      "text/plain": [
       "(256, 256, 8)"
      ]
     },
     "execution_count": 4,
     "metadata": {},
     "output_type": "execute_result"
    }
   ],
   "source": [
    "img.shape\n",
    "mask.shape"
   ]
  },
  {
   "cell_type": "code",
   "execution_count": 5,
   "id": "1a8aac45",
   "metadata": {},
   "outputs": [],
   "source": [
    "def cbControl(section):\n",
    "    alpha = 0.5 # Simple contrast control\n",
    "    beta = 0.3    # Simple brightness control\n",
    "\n",
    "    for y in range(section.shape[0]):\n",
    "        for x in range(section.shape[1]):\n",
    "                section[y,x] = np.clip(alpha*section[y,x] + beta, 0, 255)\n",
    "    return section\n",
    "    "
   ]
  },
  {
   "cell_type": "code",
   "execution_count": 6,
   "id": "e07096ce",
   "metadata": {},
   "outputs": [],
   "source": [
    "def normalizeImage(image):\n",
    "    mean = np.mean(image)\n",
    "    std = np.std(image)\n",
    "\n",
    "    return (image-mean)/std"
   ]
  },
  {
   "cell_type": "code",
   "execution_count": 7,
   "id": "215602c3",
   "metadata": {},
   "outputs": [],
   "source": [
    "H_min = -50\n",
    "H_max = 1000\n",
    "H_range = H_max - H_min\n",
    "\n",
    "def normalizeImageIntensityRange(img):\n",
    "    img[img < H_min] = H_min\n",
    "    img[img > H_max] = H_max\n",
    "    return (img - H_min) / H_range"
   ]
  },
  {
   "cell_type": "code",
   "execution_count": 8,
   "id": "7513b90f",
   "metadata": {},
   "outputs": [],
   "source": [
    "def window_image(image, window_center, window_width):\n",
    "    img_min = window_center - window_width // 2\n",
    "    img_max = window_center + window_width // 2\n",
    "    window_image = image.copy()\n",
    "    window_image[window_image < img_min] = img_min\n",
    "    window_image[window_image > img_max] = img_max\n",
    "    \n",
    "    return window_image"
   ]
  },
  {
   "cell_type": "code",
   "execution_count": 27,
   "id": "ad787392",
   "metadata": {},
   "outputs": [
    {
     "name": "stdout",
     "output_type": "stream",
     "text": [
      "(256, 256, 8)\n",
      "(256, 256)\n",
      "0.0 39.0\n"
     ]
    },
    {
     "data": {
      "image/png": "[encoded data removed]",
      "text/plain": [
       "<Figure size 432x288 with 2 Axes>"
      ]
     },
     "metadata": {},
     "output_type": "display_data"
    }
   ],
   "source": [
    "img_data = img.get_fdata()\n",
    "mask_data = mask.get_fdata()\n",
    "print(img_data.shape)\n",
    "\n",
    "section = img_data[:,:,5]\n",
    "mask_section = mask_data[:,:,7]\n",
    "print(section.shape)\n",
    "\n",
    "section.shape\n",
    "\n",
    "min=np.min(section)        # result=-23.0\n",
    "max=np.max(section)        # result=2213.0\n",
    "print(min,max)\n",
    "\n",
    "nImg = normalize(section)\n",
    "mImg = normalize(mask_section)\n",
    "\n",
    "\n",
    "#plt.imshow(nImg, cmap='gray')\n",
    "plt.imshow(mask_section,cmap='gray', alpha=1)\n",
    "#plt.xlabel('First axis')\n",
    "#plt.ylabel('Second axis')\n",
    "plt.colorbar(label='intensity')\n",
    "plt.show()"
   ]
  },
  {
   "cell_type": "code",
   "execution_count": null,
   "id": "6170f740",
   "metadata": {},
   "outputs": [],
   "source": []
  },
  {
   "cell_type": "code",
   "execution_count": 26,
   "id": "7bf4c508",
   "metadata": {},
   "outputs": [],
   "source": [
    "# Converting to tensor\n",
    "entire_scan = img.get_fdata()\n",
    "section_data = torch.from_numpy(entire_scan)"
   ]
  },
  {
   "cell_type": "code",
   "execution_count": 28,
   "id": "4f088204",
   "metadata": {},
   "outputs": [
    {
     "data": {
      "text/plain": [
       "256"
      ]
     },
     "execution_count": 28,
     "metadata": {},
     "output_type": "execute_result"
    }
   ],
   "source": [
    "section_data.shape[1]"
   ]
  },
  {
   "cell_type": "code",
   "execution_count": null,
   "id": "acebf3f3",
   "metadata": {},
   "outputs": [],
   "source": []
  }
 ],
 "metadata": {
  "kernelspec": {
   "display_name": "Python 3 (ipykernel)",
   "language": "python",
   "name": "python3"
  },
  "language_info": {
   "codemirror_mode": {
    "name": "ipython",
    "version": 3
   },
   "file_extension": ".py",
   "mimetype": "text/x-python",
   "name": "python",
   "nbconvert_exporter": "python",
   "pygments_lexer": "ipython3",
   "version": "3.9.6"
  }
 },
 "nbformat": 4,
 "nbformat_minor": 5
}
